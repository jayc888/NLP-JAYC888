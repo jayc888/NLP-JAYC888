{
    "cells": [
        {
            "cell_type": "markdown",
            "metadata": {},
            "source": [
                "# Explore here"
            ]
        },
        {
            "cell_type": "code",
            "execution_count": 1,
            "metadata": {},
            "outputs": [
                {
                    "data": {
                        "text/html": [
                            "<div>\n",
                            "<style scoped>\n",
                            "    .dataframe tbody tr th:only-of-type {\n",
                            "        vertical-align: middle;\n",
                            "    }\n",
                            "\n",
                            "    .dataframe tbody tr th {\n",
                            "        vertical-align: top;\n",
                            "    }\n",
                            "\n",
                            "    .dataframe thead th {\n",
                            "        text-align: right;\n",
                            "    }\n",
                            "</style>\n",
                            "<table border=\"1\" class=\"dataframe\">\n",
                            "  <thead>\n",
                            "    <tr style=\"text-align: right;\">\n",
                            "      <th></th>\n",
                            "      <th>url</th>\n",
                            "      <th>is_spam</th>\n",
                            "    </tr>\n",
                            "  </thead>\n",
                            "  <tbody>\n",
                            "    <tr>\n",
                            "      <th>0</th>\n",
                            "      <td>https://briefingday.us8.list-manage.com/unsubs...</td>\n",
                            "      <td>True</td>\n",
                            "    </tr>\n",
                            "    <tr>\n",
                            "      <th>1</th>\n",
                            "      <td>https://www.hvper.com/</td>\n",
                            "      <td>True</td>\n",
                            "    </tr>\n",
                            "    <tr>\n",
                            "      <th>2</th>\n",
                            "      <td>https://briefingday.com/m/v4n3i4f3</td>\n",
                            "      <td>True</td>\n",
                            "    </tr>\n",
                            "    <tr>\n",
                            "      <th>3</th>\n",
                            "      <td>https://briefingday.com/n/20200618/m#commentform</td>\n",
                            "      <td>False</td>\n",
                            "    </tr>\n",
                            "    <tr>\n",
                            "      <th>4</th>\n",
                            "      <td>https://briefingday.com/fan</td>\n",
                            "      <td>True</td>\n",
                            "    </tr>\n",
                            "    <tr>\n",
                            "      <th>...</th>\n",
                            "      <td>...</td>\n",
                            "      <td>...</td>\n",
                            "    </tr>\n",
                            "    <tr>\n",
                            "      <th>2994</th>\n",
                            "      <td>https://www.smartcitiesworld.net/news/news/dee...</td>\n",
                            "      <td>False</td>\n",
                            "    </tr>\n",
                            "    <tr>\n",
                            "      <th>2995</th>\n",
                            "      <td>https://www.youtube.com/watch</td>\n",
                            "      <td>True</td>\n",
                            "    </tr>\n",
                            "    <tr>\n",
                            "      <th>2996</th>\n",
                            "      <td>https://techcrunch.com/2019/07/04/an-optimisti...</td>\n",
                            "      <td>False</td>\n",
                            "    </tr>\n",
                            "    <tr>\n",
                            "      <th>2997</th>\n",
                            "      <td>https://www.technologyreview.com/2019/12/20/13...</td>\n",
                            "      <td>False</td>\n",
                            "    </tr>\n",
                            "    <tr>\n",
                            "      <th>2998</th>\n",
                            "      <td>https://www.bbc.com/news/technology-51018758</td>\n",
                            "      <td>False</td>\n",
                            "    </tr>\n",
                            "  </tbody>\n",
                            "</table>\n",
                            "<p>2999 rows × 2 columns</p>\n",
                            "</div>"
                        ],
                        "text/plain": [
                            "                                                    url  is_spam\n",
                            "0     https://briefingday.us8.list-manage.com/unsubs...     True\n",
                            "1                                https://www.hvper.com/     True\n",
                            "2                    https://briefingday.com/m/v4n3i4f3     True\n",
                            "3      https://briefingday.com/n/20200618/m#commentform    False\n",
                            "4                           https://briefingday.com/fan     True\n",
                            "...                                                 ...      ...\n",
                            "2994  https://www.smartcitiesworld.net/news/news/dee...    False\n",
                            "2995                      https://www.youtube.com/watch     True\n",
                            "2996  https://techcrunch.com/2019/07/04/an-optimisti...    False\n",
                            "2997  https://www.technologyreview.com/2019/12/20/13...    False\n",
                            "2998       https://www.bbc.com/news/technology-51018758    False\n",
                            "\n",
                            "[2999 rows x 2 columns]"
                        ]
                    },
                    "execution_count": 1,
                    "metadata": {},
                    "output_type": "execute_result"
                }
            ],
            "source": [
                "# Your code here\n",
                "import pandas as pd\n",
                "\n",
                "df = pd.read_csv('https://raw.githubusercontent.com/4GeeksAcademy/NLP-project-tutorial/main/url_spam.csv')\n",
                "\n",
                "df"
            ]
        },
        {
            "cell_type": "code",
            "execution_count": 2,
            "metadata": {},
            "outputs": [
                {
                    "data": {
                        "text/plain": [
                            "np.int64(630)"
                        ]
                    },
                    "execution_count": 2,
                    "metadata": {},
                    "output_type": "execute_result"
                }
            ],
            "source": [
                "df.duplicated().sum()\n"
            ]
        },
        {
            "cell_type": "code",
            "execution_count": 3,
            "metadata": {},
            "outputs": [],
            "source": [
                "df.drop_duplicates(inplace=True)\n"
            ]
        },
        {
            "cell_type": "code",
            "execution_count": 6,
            "metadata": {},
            "outputs": [
                {
                    "data": {
                        "text/plain": [
                            "(2369, 2)"
                        ]
                    },
                    "execution_count": 6,
                    "metadata": {},
                    "output_type": "execute_result"
                }
            ],
            "source": [
                "df.shape\n"
            ]
        },
        {
            "cell_type": "code",
            "execution_count": 11,
            "metadata": {},
            "outputs": [
                {
                    "name": "stdout",
                    "output_type": "stream",
                    "text": [
                        "Cantidad de SPAM: 244\n",
                        "Cantidad de Correo: 2125\n"
                    ]
                }
            ],
            "source": [
                "print(f\"Cantidad de SPAM: {len(df[df['is_spam'] == True])}\")\n",
                "print(f\"Cantidad de Correo: {len(df[df['is_spam'] == False])}\")"
            ]
        },
        {
            "cell_type": "code",
            "execution_count": 12,
            "metadata": {},
            "outputs": [],
            "source": [
                "import regex as re\n",
                "\n",
                "def preprocess_text(text):\n",
                "    # Eliminar cualquier caracter que no sea una letra (a-z) o un espacio en blanco ( )\n",
                "    text = re.sub(r'[^a-z ]', \" \", text)\n",
                "    \n",
                "    # Eliminar espacios en blanco\n",
                "    text = re.sub(r'\\s+[a-zA-Z]\\s+', \" \", text)\n",
                "    text = re.sub(r'\\^[a-zA-Z]\\s+', \" \", text)\n",
                "\n",
                "    # Reducir espacios en blanco múltiples a uno único\n",
                "    text = re.sub(r'\\s+', \" \", text.lower())\n",
                "\n",
                "    # Eliminar tags\n",
                "    text = re.sub(\"&lt;/?.*?&gt;\",\" &lt;&gt; \", text)\n",
                "\n",
                "    return text.split()"
            ]
        },
        {
            "cell_type": "code",
            "execution_count": null,
            "metadata": {},
            "outputs": [],
            "source": []
        },
        {
            "cell_type": "code",
            "execution_count": null,
            "metadata": {},
            "outputs": [],
            "source": []
        },
        {
            "cell_type": "code",
            "execution_count": null,
            "metadata": {},
            "outputs": [],
            "source": []
        }
    ],
    "metadata": {
        "kernelspec": {
            "display_name": "Python 3",
            "language": "python",
            "name": "python3"
        },
        "language_info": {
            "codemirror_mode": {
                "name": "ipython",
                "version": 3
            },
            "file_extension": ".py",
            "mimetype": "text/x-python",
            "name": "python",
            "nbconvert_exporter": "python",
            "pygments_lexer": "ipython3",
            "version": "3.11.4"
        },
        "orig_nbformat": 4
    },
    "nbformat": 4,
    "nbformat_minor": 2
}
